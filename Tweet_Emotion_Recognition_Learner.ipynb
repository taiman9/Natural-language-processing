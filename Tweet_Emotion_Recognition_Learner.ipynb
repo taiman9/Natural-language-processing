{
  "nbformat": 4,
  "nbformat_minor": 0,
  "metadata": {
    "accelerator": "GPU",
    "colab": {
      "name": "Tweet Emotion Recognition - Learner.ipynb",
      "provenance": [],
      "collapsed_sections": [],
      "include_colab_link": true
    },
    "kernelspec": {
      "display_name": "Python 3",
      "language": "python",
      "name": "python3"
    },
    "language_info": {
      "codemirror_mode": {
        "name": "ipython",
        "version": 3
      },
      "file_extension": ".py",
      "mimetype": "text/x-python",
      "name": "python",
      "nbconvert_exporter": "python",
      "pygments_lexer": "ipython3",
      "version": "3.8.3"
    }
  },
  "cells": [
    {
      "cell_type": "markdown",
      "metadata": {
        "id": "view-in-github",
        "colab_type": "text"
      },
      "source": [
        "<a href=\"https://colab.research.google.com/github/taiman9/Natural-language-processing/blob/main/Tweet_Emotion_Recognition_Learner.ipynb\" target=\"_parent\"><img src=\"https://colab.research.google.com/assets/colab-badge.svg\" alt=\"Open In Colab\"/></a>"
      ]
    },
    {
      "cell_type": "markdown",
      "metadata": {
        "id": "sp7D0ktn5eiG"
      },
      "source": [
        "## Tweet Emotion Recognition: Natural Language Processing with TensorFlow\n",
        "\n",
        "---\n",
        "\n",
        "Dataset: [Tweet Emotion Dataset](https://github.com/dair-ai/emotion_dataset)\n",
        "\n",
        "This is a starter notebook for the guided project [Tweet Emotion Recognition with TensorFlow](https://www.coursera.org/projects/tweet-emotion-tensorflow)\n",
        "\n",
        "A complete version of this notebook is available in the course resources\n",
        "\n",
        "---\n",
        "\n",
        "## Task 1: Introduction"
      ]
    },
    {
      "cell_type": "markdown",
      "metadata": {
        "id": "cprXxkrMxIgT"
      },
      "source": [
        "## Task 2: Setup and Imports\n",
        "\n",
        "1. Installing Hugging Face's nlp package\n",
        "2. Importing libraries"
      ]
    },
    {
      "cell_type": "code",
      "metadata": {
        "id": "5agZRy-45i0g",
        "colab": {
          "base_uri": "https://localhost:8080/"
        },
        "outputId": "c3fff029-19d7-434f-87f9-b0febc92bd67"
      },
      "source": [
        "!pip install nlp"
      ],
      "execution_count": 1,
      "outputs": [
        {
          "output_type": "stream",
          "name": "stdout",
          "text": [
            "Collecting nlp\n",
            "  Downloading nlp-0.4.0-py3-none-any.whl (1.7 MB)\n",
            "\u001b[?25l\r\u001b[K     |▏                               | 10 kB 23.1 MB/s eta 0:00:01\r\u001b[K     |▍                               | 20 kB 27.4 MB/s eta 0:00:01\r\u001b[K     |▋                               | 30 kB 23.4 MB/s eta 0:00:01\r\u001b[K     |▉                               | 40 kB 19.2 MB/s eta 0:00:01\r\u001b[K     |█                               | 51 kB 15.0 MB/s eta 0:00:01\r\u001b[K     |█▏                              | 61 kB 11.5 MB/s eta 0:00:01\r\u001b[K     |█▍                              | 71 kB 12.3 MB/s eta 0:00:01\r\u001b[K     |█▋                              | 81 kB 13.4 MB/s eta 0:00:01\r\u001b[K     |█▉                              | 92 kB 13.9 MB/s eta 0:00:01\r\u001b[K     |██                              | 102 kB 13.1 MB/s eta 0:00:01\r\u001b[K     |██▏                             | 112 kB 13.1 MB/s eta 0:00:01\r\u001b[K     |██▍                             | 122 kB 13.1 MB/s eta 0:00:01\r\u001b[K     |██▋                             | 133 kB 13.1 MB/s eta 0:00:01\r\u001b[K     |██▊                             | 143 kB 13.1 MB/s eta 0:00:01\r\u001b[K     |███                             | 153 kB 13.1 MB/s eta 0:00:01\r\u001b[K     |███▏                            | 163 kB 13.1 MB/s eta 0:00:01\r\u001b[K     |███▍                            | 174 kB 13.1 MB/s eta 0:00:01\r\u001b[K     |███▋                            | 184 kB 13.1 MB/s eta 0:00:01\r\u001b[K     |███▊                            | 194 kB 13.1 MB/s eta 0:00:01\r\u001b[K     |████                            | 204 kB 13.1 MB/s eta 0:00:01\r\u001b[K     |████▏                           | 215 kB 13.1 MB/s eta 0:00:01\r\u001b[K     |████▍                           | 225 kB 13.1 MB/s eta 0:00:01\r\u001b[K     |████▌                           | 235 kB 13.1 MB/s eta 0:00:01\r\u001b[K     |████▊                           | 245 kB 13.1 MB/s eta 0:00:01\r\u001b[K     |█████                           | 256 kB 13.1 MB/s eta 0:00:01\r\u001b[K     |█████▏                          | 266 kB 13.1 MB/s eta 0:00:01\r\u001b[K     |█████▍                          | 276 kB 13.1 MB/s eta 0:00:01\r\u001b[K     |█████▌                          | 286 kB 13.1 MB/s eta 0:00:01\r\u001b[K     |█████▊                          | 296 kB 13.1 MB/s eta 0:00:01\r\u001b[K     |██████                          | 307 kB 13.1 MB/s eta 0:00:01\r\u001b[K     |██████▏                         | 317 kB 13.1 MB/s eta 0:00:01\r\u001b[K     |██████▎                         | 327 kB 13.1 MB/s eta 0:00:01\r\u001b[K     |██████▌                         | 337 kB 13.1 MB/s eta 0:00:01\r\u001b[K     |██████▊                         | 348 kB 13.1 MB/s eta 0:00:01\r\u001b[K     |███████                         | 358 kB 13.1 MB/s eta 0:00:01\r\u001b[K     |███████▏                        | 368 kB 13.1 MB/s eta 0:00:01\r\u001b[K     |███████▎                        | 378 kB 13.1 MB/s eta 0:00:01\r\u001b[K     |███████▌                        | 389 kB 13.1 MB/s eta 0:00:01\r\u001b[K     |███████▊                        | 399 kB 13.1 MB/s eta 0:00:01\r\u001b[K     |████████                        | 409 kB 13.1 MB/s eta 0:00:01\r\u001b[K     |████████                        | 419 kB 13.1 MB/s eta 0:00:01\r\u001b[K     |████████▎                       | 430 kB 13.1 MB/s eta 0:00:01\r\u001b[K     |████████▌                       | 440 kB 13.1 MB/s eta 0:00:01\r\u001b[K     |████████▊                       | 450 kB 13.1 MB/s eta 0:00:01\r\u001b[K     |█████████                       | 460 kB 13.1 MB/s eta 0:00:01\r\u001b[K     |█████████                       | 471 kB 13.1 MB/s eta 0:00:01\r\u001b[K     |█████████▎                      | 481 kB 13.1 MB/s eta 0:00:01\r\u001b[K     |█████████▌                      | 491 kB 13.1 MB/s eta 0:00:01\r\u001b[K     |█████████▊                      | 501 kB 13.1 MB/s eta 0:00:01\r\u001b[K     |█████████▉                      | 512 kB 13.1 MB/s eta 0:00:01\r\u001b[K     |██████████                      | 522 kB 13.1 MB/s eta 0:00:01\r\u001b[K     |██████████▎                     | 532 kB 13.1 MB/s eta 0:00:01\r\u001b[K     |██████████▌                     | 542 kB 13.1 MB/s eta 0:00:01\r\u001b[K     |██████████▊                     | 552 kB 13.1 MB/s eta 0:00:01\r\u001b[K     |██████████▉                     | 563 kB 13.1 MB/s eta 0:00:01\r\u001b[K     |███████████                     | 573 kB 13.1 MB/s eta 0:00:01\r\u001b[K     |███████████▎                    | 583 kB 13.1 MB/s eta 0:00:01\r\u001b[K     |███████████▌                    | 593 kB 13.1 MB/s eta 0:00:01\r\u001b[K     |███████████▋                    | 604 kB 13.1 MB/s eta 0:00:01\r\u001b[K     |███████████▉                    | 614 kB 13.1 MB/s eta 0:00:01\r\u001b[K     |████████████                    | 624 kB 13.1 MB/s eta 0:00:01\r\u001b[K     |████████████▎                   | 634 kB 13.1 MB/s eta 0:00:01\r\u001b[K     |████████████▌                   | 645 kB 13.1 MB/s eta 0:00:01\r\u001b[K     |████████████▋                   | 655 kB 13.1 MB/s eta 0:00:01\r\u001b[K     |████████████▉                   | 665 kB 13.1 MB/s eta 0:00:01\r\u001b[K     |█████████████                   | 675 kB 13.1 MB/s eta 0:00:01\r\u001b[K     |█████████████▎                  | 686 kB 13.1 MB/s eta 0:00:01\r\u001b[K     |█████████████▍                  | 696 kB 13.1 MB/s eta 0:00:01\r\u001b[K     |█████████████▋                  | 706 kB 13.1 MB/s eta 0:00:01\r\u001b[K     |█████████████▉                  | 716 kB 13.1 MB/s eta 0:00:01\r\u001b[K     |██████████████                  | 727 kB 13.1 MB/s eta 0:00:01\r\u001b[K     |██████████████▎                 | 737 kB 13.1 MB/s eta 0:00:01\r\u001b[K     |██████████████▍                 | 747 kB 13.1 MB/s eta 0:00:01\r\u001b[K     |██████████████▋                 | 757 kB 13.1 MB/s eta 0:00:01\r\u001b[K     |██████████████▉                 | 768 kB 13.1 MB/s eta 0:00:01\r\u001b[K     |███████████████                 | 778 kB 13.1 MB/s eta 0:00:01\r\u001b[K     |███████████████▏                | 788 kB 13.1 MB/s eta 0:00:01\r\u001b[K     |███████████████▍                | 798 kB 13.1 MB/s eta 0:00:01\r\u001b[K     |███████████████▋                | 808 kB 13.1 MB/s eta 0:00:01\r\u001b[K     |███████████████▉                | 819 kB 13.1 MB/s eta 0:00:01\r\u001b[K     |████████████████                | 829 kB 13.1 MB/s eta 0:00:01\r\u001b[K     |████████████████▏               | 839 kB 13.1 MB/s eta 0:00:01\r\u001b[K     |████████████████▍               | 849 kB 13.1 MB/s eta 0:00:01\r\u001b[K     |████████████████▋               | 860 kB 13.1 MB/s eta 0:00:01\r\u001b[K     |████████████████▉               | 870 kB 13.1 MB/s eta 0:00:01\r\u001b[K     |█████████████████               | 880 kB 13.1 MB/s eta 0:00:01\r\u001b[K     |█████████████████▏              | 890 kB 13.1 MB/s eta 0:00:01\r\u001b[K     |█████████████████▍              | 901 kB 13.1 MB/s eta 0:00:01\r\u001b[K     |█████████████████▋              | 911 kB 13.1 MB/s eta 0:00:01\r\u001b[K     |█████████████████▉              | 921 kB 13.1 MB/s eta 0:00:01\r\u001b[K     |██████████████████              | 931 kB 13.1 MB/s eta 0:00:01\r\u001b[K     |██████████████████▏             | 942 kB 13.1 MB/s eta 0:00:01\r\u001b[K     |██████████████████▍             | 952 kB 13.1 MB/s eta 0:00:01\r\u001b[K     |██████████████████▋             | 962 kB 13.1 MB/s eta 0:00:01\r\u001b[K     |██████████████████▊             | 972 kB 13.1 MB/s eta 0:00:01\r\u001b[K     |███████████████████             | 983 kB 13.1 MB/s eta 0:00:01\r\u001b[K     |███████████████████▏            | 993 kB 13.1 MB/s eta 0:00:01\r\u001b[K     |███████████████████▍            | 1.0 MB 13.1 MB/s eta 0:00:01\r\u001b[K     |███████████████████▋            | 1.0 MB 13.1 MB/s eta 0:00:01\r\u001b[K     |███████████████████▊            | 1.0 MB 13.1 MB/s eta 0:00:01\r\u001b[K     |████████████████████            | 1.0 MB 13.1 MB/s eta 0:00:01\r\u001b[K     |████████████████████▏           | 1.0 MB 13.1 MB/s eta 0:00:01\r\u001b[K     |████████████████████▍           | 1.1 MB 13.1 MB/s eta 0:00:01\r\u001b[K     |████████████████████▌           | 1.1 MB 13.1 MB/s eta 0:00:01\r\u001b[K     |████████████████████▊           | 1.1 MB 13.1 MB/s eta 0:00:01\r\u001b[K     |█████████████████████           | 1.1 MB 13.1 MB/s eta 0:00:01\r\u001b[K     |█████████████████████▏          | 1.1 MB 13.1 MB/s eta 0:00:01\r\u001b[K     |█████████████████████▍          | 1.1 MB 13.1 MB/s eta 0:00:01\r\u001b[K     |█████████████████████▌          | 1.1 MB 13.1 MB/s eta 0:00:01\r\u001b[K     |█████████████████████▊          | 1.1 MB 13.1 MB/s eta 0:00:01\r\u001b[K     |██████████████████████          | 1.1 MB 13.1 MB/s eta 0:00:01\r\u001b[K     |██████████████████████▏         | 1.1 MB 13.1 MB/s eta 0:00:01\r\u001b[K     |██████████████████████▎         | 1.2 MB 13.1 MB/s eta 0:00:01\r\u001b[K     |██████████████████████▌         | 1.2 MB 13.1 MB/s eta 0:00:01\r\u001b[K     |██████████████████████▊         | 1.2 MB 13.1 MB/s eta 0:00:01\r\u001b[K     |███████████████████████         | 1.2 MB 13.1 MB/s eta 0:00:01\r\u001b[K     |███████████████████████▏        | 1.2 MB 13.1 MB/s eta 0:00:01\r\u001b[K     |███████████████████████▎        | 1.2 MB 13.1 MB/s eta 0:00:01\r\u001b[K     |███████████████████████▌        | 1.2 MB 13.1 MB/s eta 0:00:01\r\u001b[K     |███████████████████████▊        | 1.2 MB 13.1 MB/s eta 0:00:01\r\u001b[K     |████████████████████████        | 1.2 MB 13.1 MB/s eta 0:00:01\r\u001b[K     |████████████████████████        | 1.2 MB 13.1 MB/s eta 0:00:01\r\u001b[K     |████████████████████████▎       | 1.3 MB 13.1 MB/s eta 0:00:01\r\u001b[K     |████████████████████████▌       | 1.3 MB 13.1 MB/s eta 0:00:01\r\u001b[K     |████████████████████████▊       | 1.3 MB 13.1 MB/s eta 0:00:01\r\u001b[K     |█████████████████████████       | 1.3 MB 13.1 MB/s eta 0:00:01\r\u001b[K     |█████████████████████████       | 1.3 MB 13.1 MB/s eta 0:00:01\r\u001b[K     |█████████████████████████▎      | 1.3 MB 13.1 MB/s eta 0:00:01\r\u001b[K     |█████████████████████████▌      | 1.3 MB 13.1 MB/s eta 0:00:01\r\u001b[K     |█████████████████████████▊      | 1.3 MB 13.1 MB/s eta 0:00:01\r\u001b[K     |█████████████████████████▉      | 1.3 MB 13.1 MB/s eta 0:00:01\r\u001b[K     |██████████████████████████      | 1.4 MB 13.1 MB/s eta 0:00:01\r\u001b[K     |██████████████████████████▎     | 1.4 MB 13.1 MB/s eta 0:00:01\r\u001b[K     |██████████████████████████▌     | 1.4 MB 13.1 MB/s eta 0:00:01\r\u001b[K     |██████████████████████████▊     | 1.4 MB 13.1 MB/s eta 0:00:01\r\u001b[K     |██████████████████████████▉     | 1.4 MB 13.1 MB/s eta 0:00:01\r\u001b[K     |███████████████████████████     | 1.4 MB 13.1 MB/s eta 0:00:01\r\u001b[K     |███████████████████████████▎    | 1.4 MB 13.1 MB/s eta 0:00:01\r\u001b[K     |███████████████████████████▌    | 1.4 MB 13.1 MB/s eta 0:00:01\r\u001b[K     |███████████████████████████▋    | 1.4 MB 13.1 MB/s eta 0:00:01\r\u001b[K     |███████████████████████████▉    | 1.4 MB 13.1 MB/s eta 0:00:01\r\u001b[K     |████████████████████████████    | 1.5 MB 13.1 MB/s eta 0:00:01\r\u001b[K     |████████████████████████████▎   | 1.5 MB 13.1 MB/s eta 0:00:01\r\u001b[K     |████████████████████████████▌   | 1.5 MB 13.1 MB/s eta 0:00:01\r\u001b[K     |████████████████████████████▋   | 1.5 MB 13.1 MB/s eta 0:00:01\r\u001b[K     |████████████████████████████▉   | 1.5 MB 13.1 MB/s eta 0:00:01\r\u001b[K     |█████████████████████████████   | 1.5 MB 13.1 MB/s eta 0:00:01\r\u001b[K     |█████████████████████████████▎  | 1.5 MB 13.1 MB/s eta 0:00:01\r\u001b[K     |█████████████████████████████▍  | 1.5 MB 13.1 MB/s eta 0:00:01\r\u001b[K     |█████████████████████████████▋  | 1.5 MB 13.1 MB/s eta 0:00:01\r\u001b[K     |█████████████████████████████▉  | 1.5 MB 13.1 MB/s eta 0:00:01\r\u001b[K     |██████████████████████████████  | 1.6 MB 13.1 MB/s eta 0:00:01\r\u001b[K     |██████████████████████████████▎ | 1.6 MB 13.1 MB/s eta 0:00:01\r\u001b[K     |██████████████████████████████▍ | 1.6 MB 13.1 MB/s eta 0:00:01\r\u001b[K     |██████████████████████████████▋ | 1.6 MB 13.1 MB/s eta 0:00:01\r\u001b[K     |██████████████████████████████▉ | 1.6 MB 13.1 MB/s eta 0:00:01\r\u001b[K     |███████████████████████████████ | 1.6 MB 13.1 MB/s eta 0:00:01\r\u001b[K     |███████████████████████████████▏| 1.6 MB 13.1 MB/s eta 0:00:01\r\u001b[K     |███████████████████████████████▍| 1.6 MB 13.1 MB/s eta 0:00:01\r\u001b[K     |███████████████████████████████▋| 1.6 MB 13.1 MB/s eta 0:00:01\r\u001b[K     |███████████████████████████████▉| 1.6 MB 13.1 MB/s eta 0:00:01\r\u001b[K     |████████████████████████████████| 1.7 MB 13.1 MB/s \n",
            "\u001b[?25hRequirement already satisfied: tqdm>=4.27 in /usr/local/lib/python3.7/dist-packages (from nlp) (4.62.3)\n",
            "Requirement already satisfied: filelock in /usr/local/lib/python3.7/dist-packages (from nlp) (3.3.0)\n",
            "Requirement already satisfied: pyarrow>=0.16.0 in /usr/local/lib/python3.7/dist-packages (from nlp) (3.0.0)\n",
            "Requirement already satisfied: requests>=2.19.0 in /usr/local/lib/python3.7/dist-packages (from nlp) (2.23.0)\n",
            "Requirement already satisfied: pandas in /usr/local/lib/python3.7/dist-packages (from nlp) (1.1.5)\n",
            "Requirement already satisfied: numpy in /usr/local/lib/python3.7/dist-packages (from nlp) (1.19.5)\n",
            "Collecting xxhash\n",
            "  Downloading xxhash-2.0.2-cp37-cp37m-manylinux2010_x86_64.whl (243 kB)\n",
            "\u001b[K     |████████████████████████████████| 243 kB 47.7 MB/s \n",
            "\u001b[?25hRequirement already satisfied: dill in /usr/local/lib/python3.7/dist-packages (from nlp) (0.3.4)\n",
            "Requirement already satisfied: certifi>=2017.4.17 in /usr/local/lib/python3.7/dist-packages (from requests>=2.19.0->nlp) (2021.5.30)\n",
            "Requirement already satisfied: urllib3!=1.25.0,!=1.25.1,<1.26,>=1.21.1 in /usr/local/lib/python3.7/dist-packages (from requests>=2.19.0->nlp) (1.24.3)\n",
            "Requirement already satisfied: idna<3,>=2.5 in /usr/local/lib/python3.7/dist-packages (from requests>=2.19.0->nlp) (2.10)\n",
            "Requirement already satisfied: chardet<4,>=3.0.2 in /usr/local/lib/python3.7/dist-packages (from requests>=2.19.0->nlp) (3.0.4)\n",
            "Requirement already satisfied: pytz>=2017.2 in /usr/local/lib/python3.7/dist-packages (from pandas->nlp) (2018.9)\n",
            "Requirement already satisfied: python-dateutil>=2.7.3 in /usr/local/lib/python3.7/dist-packages (from pandas->nlp) (2.8.2)\n",
            "Requirement already satisfied: six>=1.5 in /usr/local/lib/python3.7/dist-packages (from python-dateutil>=2.7.3->pandas->nlp) (1.15.0)\n",
            "Installing collected packages: xxhash, nlp\n",
            "Successfully installed nlp-0.4.0 xxhash-2.0.2\n"
          ]
        }
      ]
    },
    {
      "cell_type": "code",
      "metadata": {
        "id": "yKFjWz6e5eiH",
        "colab": {
          "base_uri": "https://localhost:8080/"
        },
        "outputId": "630b64df-1b92-4565-d769-dfc3cde0fefa"
      },
      "source": [
        "%matplotlib inline\n",
        "\n",
        "import tensorflow as tf\n",
        "import numpy as np\n",
        "import matplotlib.pyplot as plt\n",
        "import nlp\n",
        "import random\n",
        "\n",
        "\n",
        "def show_history(h):\n",
        "    epochs_trained = len(h.history['loss'])\n",
        "    plt.figure(figsize=(16, 6))\n",
        "\n",
        "    plt.subplot(1, 2, 1)\n",
        "    plt.plot(range(0, epochs_trained), h.history.get('accuracy'), label='Training')\n",
        "    plt.plot(range(0, epochs_trained), h.history.get('val_accuracy'), label='Validation')\n",
        "    plt.ylim([0., 1.])\n",
        "    plt.xlabel('Epochs')\n",
        "    plt.ylabel('Accuracy')\n",
        "    plt.legend()\n",
        "\n",
        "    plt.subplot(1, 2, 2)\n",
        "    plt.plot(range(0, epochs_trained), h.history.get('loss'), label='Training')\n",
        "    plt.plot(range(0, epochs_trained), h.history.get('val_loss'), label='Validation')\n",
        "    plt.xlabel('Epochs')\n",
        "    plt.ylabel('Loss')\n",
        "    plt.legend()\n",
        "    plt.show()\n",
        "\n",
        "    \n",
        "def show_confusion_matrix(y_true, y_pred, classes):\n",
        "    from sklearn.metrics import confusion_matrix\n",
        "    \n",
        "    cm = confusion_matrix(y_true, y_pred, normalize='true')\n",
        "\n",
        "    plt.figure(figsize=(8, 8))\n",
        "    sp = plt.subplot(1, 1, 1)\n",
        "    ctx = sp.matshow(cm)\n",
        "    plt.xticks(list(range(0, 6)), labels=classes)\n",
        "    plt.yticks(list(range(0, 6)), labels=classes)\n",
        "    plt.colorbar(ctx)\n",
        "    plt.show()\n",
        "\n",
        "    \n",
        "print('Using TensorFlow version', tf.__version__)"
      ],
      "execution_count": 2,
      "outputs": [
        {
          "output_type": "stream",
          "name": "stdout",
          "text": [
            "Using TensorFlow version 2.6.0\n"
          ]
        }
      ]
    },
    {
      "cell_type": "markdown",
      "metadata": {
        "id": "7JsBpezExIga"
      },
      "source": [
        "## Task 3: Importing Data\n",
        "\n",
        "1. Importing the Tweet Emotion dataset\n",
        "2. Creating train, validation and test sets\n",
        "3. Extracting tweets and labels from the examples"
      ]
    },
    {
      "cell_type": "code",
      "metadata": {
        "id": "0YHOvjAu5eiL",
        "colab": {
          "base_uri": "https://localhost:8080/",
          "height": 250
        },
        "outputId": "4329f98a-d217-4428-9505-a209e98c9493"
      },
      "source": [
        "dataset = nlp.load_dataset('emotion')"
      ],
      "execution_count": 3,
      "outputs": [
        {
          "output_type": "display_data",
          "data": {
            "application/vnd.jupyter.widget-view+json": {
              "model_id": "6d9fe2a5a2874ec8ae0240b2e3e18b55",
              "version_minor": 0,
              "version_major": 2
            },
            "text/plain": [
              "Downloading:   0%|          | 0.00/3.41k [00:00<?, ?B/s]"
            ]
          },
          "metadata": {}
        },
        {
          "output_type": "display_data",
          "data": {
            "application/vnd.jupyter.widget-view+json": {
              "model_id": "e7cc5b61957c41fb9590ead61fe1d6a9",
              "version_minor": 0,
              "version_major": 2
            },
            "text/plain": [
              "Downloading:   0%|          | 0.00/6.01k [00:00<?, ?B/s]"
            ]
          },
          "metadata": {}
        },
        {
          "output_type": "stream",
          "name": "stderr",
          "text": [
            "Using custom data configuration default\n"
          ]
        },
        {
          "output_type": "stream",
          "name": "stdout",
          "text": [
            "Downloading and preparing dataset emotion/default (download: 1.97 MiB, generated: 2.09 MiB, post-processed: Unknown sizetotal: 4.06 MiB) to /root/.cache/huggingface/datasets/emotion/default/0.0.0/84e07cd366f4451464584cdbd4958f512bcaddb1e921341e07298ce8a9ce42f4...\n"
          ]
        },
        {
          "output_type": "display_data",
          "data": {
            "application/vnd.jupyter.widget-view+json": {
              "model_id": "76632bc8b2e44a05b7164a5cded4f56c",
              "version_minor": 0,
              "version_major": 2
            },
            "text/plain": [
              "Downloading:   0%|          | 0.00/1.66M [00:00<?, ?B/s]"
            ]
          },
          "metadata": {}
        },
        {
          "output_type": "display_data",
          "data": {
            "application/vnd.jupyter.widget-view+json": {
              "model_id": "9274b7dff9d04ebc9e81bac91b0b0614",
              "version_minor": 0,
              "version_major": 2
            },
            "text/plain": [
              "Downloading:   0%|          | 0.00/204k [00:00<?, ?B/s]"
            ]
          },
          "metadata": {}
        },
        {
          "output_type": "display_data",
          "data": {
            "application/vnd.jupyter.widget-view+json": {
              "model_id": "f7af277e0ab24bdca0e8dbe65abb6634",
              "version_minor": 0,
              "version_major": 2
            },
            "text/plain": [
              "Downloading:   0%|          | 0.00/207k [00:00<?, ?B/s]"
            ]
          },
          "metadata": {}
        },
        {
          "output_type": "display_data",
          "data": {
            "application/vnd.jupyter.widget-view+json": {
              "model_id": "281129c24d214d24af29d33570ca1d3b",
              "version_minor": 0,
              "version_major": 2
            },
            "text/plain": [
              "0 examples [00:00, ? examples/s]"
            ]
          },
          "metadata": {}
        },
        {
          "output_type": "display_data",
          "data": {
            "application/vnd.jupyter.widget-view+json": {
              "model_id": "81373f33c6114846824104eeeddefbd7",
              "version_minor": 0,
              "version_major": 2
            },
            "text/plain": [
              "0 examples [00:00, ? examples/s]"
            ]
          },
          "metadata": {}
        },
        {
          "output_type": "display_data",
          "data": {
            "application/vnd.jupyter.widget-view+json": {
              "model_id": "757b4f9247de492fb55f26160221043e",
              "version_minor": 0,
              "version_major": 2
            },
            "text/plain": [
              "0 examples [00:00, ? examples/s]"
            ]
          },
          "metadata": {}
        },
        {
          "output_type": "stream",
          "name": "stdout",
          "text": [
            "Dataset emotion downloaded and prepared to /root/.cache/huggingface/datasets/emotion/default/0.0.0/84e07cd366f4451464584cdbd4958f512bcaddb1e921341e07298ce8a9ce42f4. Subsequent calls will reuse this data.\n"
          ]
        }
      ]
    },
    {
      "cell_type": "code",
      "metadata": {
        "id": "2s0h541FxIgc",
        "colab": {
          "base_uri": "https://localhost:8080/"
        },
        "outputId": "4324f5b2-e33c-42b8-836c-beab78508bed"
      },
      "source": [
        "dataset"
      ],
      "execution_count": 4,
      "outputs": [
        {
          "output_type": "execute_result",
          "data": {
            "text/plain": [
              "{'test': Dataset(features: {'text': Value(dtype='string', id=None), 'label': Value(dtype='string', id=None)}, num_rows: 2000),\n",
              " 'train': Dataset(features: {'text': Value(dtype='string', id=None), 'label': Value(dtype='string', id=None)}, num_rows: 16000),\n",
              " 'validation': Dataset(features: {'text': Value(dtype='string', id=None), 'label': Value(dtype='string', id=None)}, num_rows: 2000)}"
            ]
          },
          "metadata": {},
          "execution_count": 4
        }
      ]
    },
    {
      "cell_type": "code",
      "metadata": {
        "id": "z7eCnxU25eiN"
      },
      "source": [
        "train = dataset['train']\n",
        "val = dataset['validation']\n",
        "test = dataset['test']"
      ],
      "execution_count": 101,
      "outputs": []
    },
    {
      "cell_type": "code",
      "metadata": {
        "id": "oDYXMfZy5eiP"
      },
      "source": [
        "def get_tweet(data):\n",
        "  tweets = [x['text'] for x in data]\n",
        "  labels = [x['label'] for x in data]\n",
        "  return tweets, labels"
      ],
      "execution_count": 102,
      "outputs": []
    },
    {
      "cell_type": "code",
      "metadata": {
        "id": "jeq3-vSB5eiR"
      },
      "source": [
        "tweets, labels = get_tweet(train)"
      ],
      "execution_count": 7,
      "outputs": []
    },
    {
      "cell_type": "code",
      "metadata": {
        "id": "bHD3Tk0J5eiU",
        "colab": {
          "base_uri": "https://localhost:8080/"
        },
        "outputId": "5483d055-70be-4508-8943-b864db5344ba"
      },
      "source": [
        "tweets[0], labels[0]"
      ],
      "execution_count": 8,
      "outputs": [
        {
          "output_type": "execute_result",
          "data": {
            "text/plain": [
              "('i didnt feel humiliated', 'sadness')"
            ]
          },
          "metadata": {},
          "execution_count": 8
        }
      ]
    },
    {
      "cell_type": "markdown",
      "metadata": {
        "id": "gcAflLv6xIgp"
      },
      "source": [
        "## Task 4: Tokenizer\n",
        "\n",
        "1. Tokenizing the tweets"
      ]
    },
    {
      "cell_type": "code",
      "metadata": {
        "id": "qfX5-ResxIgq"
      },
      "source": [
        "from tensorflow.keras.preprocessing.text import Tokenizer"
      ],
      "execution_count": 9,
      "outputs": []
    },
    {
      "cell_type": "code",
      "metadata": {
        "id": "cckUvwBo5eif"
      },
      "source": [
        "tokenizer = Tokenizer(num_words=150000, oov_token='<UNK.')\n",
        "tokenizer.fit_on_texts(tweets)"
      ],
      "execution_count": 75,
      "outputs": []
    },
    {
      "cell_type": "code",
      "metadata": {
        "id": "1uxlL3wSTdI5",
        "colab": {
          "base_uri": "https://localhost:8080/"
        },
        "outputId": "0eb77c6a-4476-4cbc-f8bd-dc588eab4867"
      },
      "source": [
        "tokenizer.texts_to_sequences([tweets[0]])"
      ],
      "execution_count": 76,
      "outputs": [
        {
          "output_type": "execute_result",
          "data": {
            "text/plain": [
              "[[2, 139, 3, 679]]"
            ]
          },
          "metadata": {},
          "execution_count": 76
        }
      ]
    },
    {
      "cell_type": "code",
      "metadata": {
        "id": "miaCmyJnUD-0",
        "colab": {
          "base_uri": "https://localhost:8080/",
          "height": 35
        },
        "outputId": "047c03f9-20fd-4d2b-af09-e91f367bb760"
      },
      "source": [
        "tweets[0]"
      ],
      "execution_count": 77,
      "outputs": [
        {
          "output_type": "execute_result",
          "data": {
            "application/vnd.google.colaboratory.intrinsic+json": {
              "type": "string"
            },
            "text/plain": [
              "'i didnt feel humiliated'"
            ]
          },
          "metadata": {},
          "execution_count": 77
        }
      ]
    },
    {
      "cell_type": "markdown",
      "metadata": {
        "id": "i3Bqm7b2xIgu"
      },
      "source": [
        "## Task 5: Padding and Truncating Sequences\n",
        "\n",
        "1. Checking length of the tweets\n",
        "2. Creating padded sequences"
      ]
    },
    {
      "cell_type": "code",
      "metadata": {
        "id": "mLvf_WFZxIgu",
        "colab": {
          "base_uri": "https://localhost:8080/",
          "height": 265
        },
        "outputId": "a1641725-79e8-4bbc-efe3-eb75287cfdf0"
      },
      "source": [
        "lengths = [len(t.split(' ')) for t in tweets]\n",
        "plt.hist(lengths, bins = len(set(lengths)))\n",
        "plt.show()"
      ],
      "execution_count": 78,
      "outputs": [
        {
          "output_type": "display_data",
          "data": {
            "image/png": "[encoded data removed]",
            "text/plain": [
              "<Figure size 432x288 with 1 Axes>"
            ]
          },
          "metadata": {
            "needs_background": "light"
          }
        }
      ]
    },
    {
      "cell_type": "code",
      "metadata": {
        "id": "EOi5lIE3xIgx"
      },
      "source": [
        "maxlen = 50\n",
        "\n",
        "from tensorflow.keras.preprocessing.sequence import pad_sequences"
      ],
      "execution_count": 79,
      "outputs": []
    },
    {
      "cell_type": "code",
      "metadata": {
        "id": "Q9J_Iemf5eiq"
      },
      "source": [
        "def get_sequences(tokenizer, tweets):\n",
        "  sequences = tokenizer.texts_to_sequences(tweets)\n",
        "  padded = pad_sequences(sequences, truncating='post', padding='post', maxlen=maxlen)\n",
        "  return padded"
      ],
      "execution_count": 80,
      "outputs": []
    },
    {
      "cell_type": "code",
      "metadata": {
        "id": "eglH77ky5ei0"
      },
      "source": [
        "padded_train_seq = get_sequences(tokenizer, tweets)"
      ],
      "execution_count": 81,
      "outputs": []
    },
    {
      "cell_type": "code",
      "metadata": {
        "id": "iGR473HA5ei7",
        "colab": {
          "base_uri": "https://localhost:8080/"
        },
        "outputId": "e1ad8f28-fbaf-4d32-86ad-a9c1f8f1e901"
      },
      "source": [
        "padded_train_seq[0]"
      ],
      "execution_count": 82,
      "outputs": [
        {
          "output_type": "execute_result",
          "data": {
            "text/plain": [
              "array([  2, 139,   3, 679,   0,   0,   0,   0,   0,   0,   0,   0,   0,\n",
              "         0,   0,   0,   0,   0,   0,   0,   0,   0,   0,   0,   0,   0,\n",
              "         0,   0,   0,   0,   0,   0,   0,   0,   0,   0,   0,   0,   0,\n",
              "         0,   0,   0,   0,   0,   0,   0,   0,   0,   0,   0], dtype=int32)"
            ]
          },
          "metadata": {},
          "execution_count": 82
        }
      ]
    },
    {
      "cell_type": "markdown",
      "metadata": {
        "id": "BURhOX_KxIg8"
      },
      "source": [
        "## Task 6: Preparing the Labels\n",
        "\n",
        "1. Creating classes to index and index to classes dictionaries\n",
        "2. Converting text labels to numeric labels"
      ]
    },
    {
      "cell_type": "code",
      "metadata": {
        "id": "SufT2bpD5ejE",
        "colab": {
          "base_uri": "https://localhost:8080/"
        },
        "outputId": "0bc5edf0-d2bf-4a0e-cfda-2b53a5333f64"
      },
      "source": [
        "classes = set(labels)\n",
        "print(classes)"
      ],
      "execution_count": 83,
      "outputs": [
        {
          "output_type": "stream",
          "name": "stdout",
          "text": [
            "{'fear', 'sadness', 'love', 'anger', 'surprise', 'joy'}\n"
          ]
        }
      ]
    },
    {
      "cell_type": "code",
      "metadata": {
        "id": "rpwzL88I7YSm",
        "colab": {
          "base_uri": "https://localhost:8080/",
          "height": 265
        },
        "outputId": "35c755a6-7be9-4d20-a7cc-9102df55b073"
      },
      "source": [
        "plt.hist(labels, bins=11)\n",
        "plt.show()"
      ],
      "execution_count": 84,
      "outputs": [
        {
          "output_type": "display_data",
          "data": {
            "image/png": "[encoded data removed]",
            "text/plain": [
              "<Figure size 432x288 with 1 Axes>"
            ]
          },
          "metadata": {
            "needs_background": "light"
          }
        }
      ]
    },
    {
      "cell_type": "code",
      "metadata": {
        "id": "dNLF6rXL5ejN"
      },
      "source": [
        "class_to_index = dict((c,i) for i,c in enumerate(classes))\n",
        "index_to_class = dict((v,k) for k,v in class_to_index.items())"
      ],
      "execution_count": 85,
      "outputs": []
    },
    {
      "cell_type": "code",
      "metadata": {
        "id": "_08InVyM5ejc",
        "colab": {
          "base_uri": "https://localhost:8080/"
        },
        "outputId": "dfc45d0b-b679-497a-8717-b6b9925425e9"
      },
      "source": [
        "class_to_index"
      ],
      "execution_count": 86,
      "outputs": [
        {
          "output_type": "execute_result",
          "data": {
            "text/plain": [
              "{'anger': 3, 'fear': 0, 'joy': 5, 'love': 2, 'sadness': 1, 'surprise': 4}"
            ]
          },
          "metadata": {},
          "execution_count": 86
        }
      ]
    },
    {
      "cell_type": "code",
      "metadata": {
        "id": "gpeDoA6gxIhE",
        "colab": {
          "base_uri": "https://localhost:8080/"
        },
        "outputId": "2a730d8e-eb38-426f-a3e0-a501dd5bafe1"
      },
      "source": [
        "index_to_class"
      ],
      "execution_count": 87,
      "outputs": [
        {
          "output_type": "execute_result",
          "data": {
            "text/plain": [
              "{0: 'fear', 1: 'sadness', 2: 'love', 3: 'anger', 4: 'surprise', 5: 'joy'}"
            ]
          },
          "metadata": {},
          "execution_count": 87
        }
      ]
    },
    {
      "cell_type": "code",
      "metadata": {
        "id": "Jq0WJYsP5ejR"
      },
      "source": [
        "names_to_ids = lambda labels: np.array([class_to_index.get(x) for x in labels])"
      ],
      "execution_count": 88,
      "outputs": []
    },
    {
      "cell_type": "code",
      "metadata": {
        "id": "v15KnrNC5ejW",
        "colab": {
          "base_uri": "https://localhost:8080/"
        },
        "outputId": "bf572d81-5ab5-4112-f8b0-3e4aedf31bd2"
      },
      "source": [
        "train_labels = names_to_ids(labels)\n",
        "print(train_labels[0])"
      ],
      "execution_count": 89,
      "outputs": [
        {
          "output_type": "stream",
          "name": "stdout",
          "text": [
            "1\n"
          ]
        }
      ]
    },
    {
      "cell_type": "markdown",
      "metadata": {
        "id": "c-v0Mnh8xIhP"
      },
      "source": [
        "## Task 7: Creating the Model\n",
        "\n",
        "1. Creating the model\n",
        "2. Compiling the model"
      ]
    },
    {
      "cell_type": "code",
      "metadata": {
        "id": "OpewXxPQ5eji"
      },
      "source": [
        "from keras.regularizers import l1\n",
        "\n",
        "model = tf.keras.models.Sequential([\n",
        "        tf.keras.layers.Embedding(10000, 16, input_length=maxlen),\n",
        "        tf.keras.layers.Bidirectional(tf.keras.layers.LSTM(20, return_sequences=True)),\n",
        "        tf.keras.layers.Bidirectional(tf.keras.layers.LSTM(20)),\n",
        "        tf.keras.layers.Dense(20, activation='relu'), \n",
        "        tf.keras.layers.Dropout(0.3),\n",
        "        tf.keras.layers.Dense(6, activation='softmax')                            \n",
        "])\n",
        "\n",
        "model.compile(\n",
        "  \n",
        "    loss='sparse_categorical_crossentropy',\n",
        "    optimizer='adam',\n",
        "    metrics=['accuracy']\n",
        ")"
      ],
      "execution_count": 97,
      "outputs": []
    },
    {
      "cell_type": "code",
      "metadata": {
        "id": "QAZUYUFPflKr",
        "colab": {
          "base_uri": "https://localhost:8080/"
        },
        "outputId": "78a30bdf-d159-4749-8017-22b0b9662bbf"
      },
      "source": [
        "model.summary()"
      ],
      "execution_count": 91,
      "outputs": [
        {
          "output_type": "stream",
          "name": "stdout",
          "text": [
            "Model: \"sequential_4\"\n",
            "_________________________________________________________________\n",
            "Layer (type)                 Output Shape              Param #   \n",
            "=================================================================\n",
            "embedding_6 (Embedding)      (None, 50, 16)            160000    \n",
            "_________________________________________________________________\n",
            "bidirectional_8 (Bidirection (None, 50, 40)            5920      \n",
            "_________________________________________________________________\n",
            "bidirectional_9 (Bidirection (None, 40)                9760      \n",
            "_________________________________________________________________\n",
            "dense_8 (Dense)              (None, 20)                820       \n",
            "_________________________________________________________________\n",
            "dropout_3 (Dropout)          (None, 20)                0         \n",
            "_________________________________________________________________\n",
            "dense_9 (Dense)              (None, 6)                 126       \n",
            "=================================================================\n",
            "Total params: 176,626\n",
            "Trainable params: 176,626\n",
            "Non-trainable params: 0\n",
            "_________________________________________________________________\n"
          ]
        }
      ]
    },
    {
      "cell_type": "markdown",
      "metadata": {
        "id": "1HST_CHjxIhR"
      },
      "source": [
        "## Task 8: Training the Model\n",
        "\n",
        "1. Preparing a validation set\n",
        "2. Training the model"
      ]
    },
    {
      "cell_type": "code",
      "metadata": {
        "id": "Ff7F3hCK5ejm"
      },
      "source": [
        "val_tweets, val_labels = get_tweet(val)\n",
        "val_seq = get_sequences(tokenizer, val_tweets)\n",
        "val_labels = names_to_ids(val_labels)"
      ],
      "execution_count": 92,
      "outputs": []
    },
    {
      "cell_type": "code",
      "metadata": {
        "id": "hlMKaZ3H5ejr",
        "colab": {
          "base_uri": "https://localhost:8080/"
        },
        "outputId": "eed71e6b-aa93-449c-919d-4abb328f2a8d"
      },
      "source": [
        "val_tweets[0], val_labels[0]"
      ],
      "execution_count": 93,
      "outputs": [
        {
          "output_type": "execute_result",
          "data": {
            "text/plain": [
              "('im feeling quite sad and sorry for myself but ill snap out of it soon', 1)"
            ]
          },
          "metadata": {},
          "execution_count": 93
        }
      ]
    },
    {
      "cell_type": "code",
      "metadata": {
        "id": "bzBqnWQ-5ejw",
        "colab": {
          "base_uri": "https://localhost:8080/"
        },
        "outputId": "a1cdb2a7-1703-4b4d-8d97-fe038ade2a02"
      },
      "source": [
        "from sklearn.model_selection import KFold\n",
        "\n",
        "# Define the K-fold Cross Validator\n",
        "kfold = KFold(n_splits=3, shuffle=True)\n",
        "\n",
        "acc_per_fold, loss_per_fold = [],[]\n",
        "\n",
        "# K-fold Cross Validation model evaluation\n",
        "fold_no = 1\n",
        "for train, test in kfold.split(padded_train_seq, train_labels):\n",
        "  # Generate a print\n",
        "  print('------------------------------------------------------------------------')\n",
        "  print(f'Training for fold {fold_no} ...')\n",
        "\n",
        "  h = model.fit(\n",
        "  padded_train_seq[train], train_labels[train],\n",
        "  validation_data=(val_seq, val_labels),\n",
        "  epochs=20,\n",
        "  callbacks=[\n",
        "             tf.keras.callbacks.EarlyStopping(monitor='val_accuracy', patience=2)\n",
        "            ]\n",
        "  )\n",
        "\n",
        "  # Generate generalization metrics\n",
        "  scores = model.evaluate(padded_train_seq[test], train_labels[test], verbose=0)\n",
        "  print(f'Score for fold {fold_no}: {model.metrics_names[0]} of {scores[0]}; {model.metrics_names[1]} of {scores[1]*100}%')\n",
        "  acc_per_fold.append(scores[1] * 100)\n",
        "  loss_per_fold.append(scores[0])\n",
        "\n",
        "  # Increase fold number\n",
        "  fold_no = fold_no + 1"
      ],
      "execution_count": 98,
      "outputs": [
        {
          "output_type": "stream",
          "name": "stdout",
          "text": [
            "------------------------------------------------------------------------\n",
            "Training for fold 1 ...\n",
            "Epoch 1/20\n",
            "334/334 [==============================] - 24s 52ms/step - loss: 1.5269 - accuracy: 0.3904 - val_loss: 1.2650 - val_accuracy: 0.5205\n",
            "Epoch 2/20\n",
            "334/334 [==============================] - 16s 48ms/step - loss: 0.9335 - accuracy: 0.6551 - val_loss: 0.8379 - val_accuracy: 0.7030\n",
            "Epoch 3/20\n",
            "334/334 [==============================] - 16s 49ms/step - loss: 0.6042 - accuracy: 0.7941 - val_loss: 0.7318 - val_accuracy: 0.7750\n",
            "Epoch 4/20\n",
            "334/334 [==============================] - 16s 48ms/step - loss: 0.4540 - accuracy: 0.8498 - val_loss: 0.6716 - val_accuracy: 0.7870\n",
            "Epoch 5/20\n",
            "334/334 [==============================] - 16s 48ms/step - loss: 0.3565 - accuracy: 0.8861 - val_loss: 0.6573 - val_accuracy: 0.8020\n",
            "Epoch 6/20\n",
            "334/334 [==============================] - 16s 48ms/step - loss: 0.2951 - accuracy: 0.9083 - val_loss: 0.7151 - val_accuracy: 0.8010\n",
            "Epoch 7/20\n",
            "334/334 [==============================] - 16s 48ms/step - loss: 0.2530 - accuracy: 0.9187 - val_loss: 0.6935 - val_accuracy: 0.8160\n",
            "Epoch 8/20\n",
            "334/334 [==============================] - 16s 48ms/step - loss: 0.2177 - accuracy: 0.9321 - val_loss: 0.7263 - val_accuracy: 0.8245\n",
            "Epoch 9/20\n",
            "334/334 [==============================] - 16s 48ms/step - loss: 0.1792 - accuracy: 0.9436 - val_loss: 0.8145 - val_accuracy: 0.8400\n",
            "Epoch 10/20\n",
            "334/334 [==============================] - 16s 48ms/step - loss: 0.1584 - accuracy: 0.9551 - val_loss: 0.8401 - val_accuracy: 0.8345\n",
            "Epoch 11/20\n",
            "334/334 [==============================] - 16s 48ms/step - loss: 0.1451 - accuracy: 0.9601 - val_loss: 0.8644 - val_accuracy: 0.8415\n",
            "Epoch 12/20\n",
            "334/334 [==============================] - 16s 48ms/step - loss: 0.1461 - accuracy: 0.9600 - val_loss: 0.8268 - val_accuracy: 0.8445\n",
            "Epoch 13/20\n",
            "334/334 [==============================] - 16s 49ms/step - loss: 0.1145 - accuracy: 0.9686 - val_loss: 0.8073 - val_accuracy: 0.8490\n",
            "Epoch 14/20\n",
            "334/334 [==============================] - 16s 48ms/step - loss: 0.1080 - accuracy: 0.9698 - val_loss: 0.8421 - val_accuracy: 0.8565\n",
            "Epoch 15/20\n",
            "334/334 [==============================] - 16s 48ms/step - loss: 0.0920 - accuracy: 0.9732 - val_loss: 0.8481 - val_accuracy: 0.8585\n",
            "Epoch 16/20\n",
            "334/334 [==============================] - 16s 48ms/step - loss: 0.0950 - accuracy: 0.9738 - val_loss: 0.8414 - val_accuracy: 0.8505\n",
            "Epoch 17/20\n",
            "334/334 [==============================] - 16s 49ms/step - loss: 0.1007 - accuracy: 0.9720 - val_loss: 0.8972 - val_accuracy: 0.8675\n",
            "Epoch 18/20\n",
            "334/334 [==============================] - 16s 48ms/step - loss: 0.0858 - accuracy: 0.9767 - val_loss: 0.9173 - val_accuracy: 0.8595\n",
            "Epoch 19/20\n",
            "334/334 [==============================] - 16s 48ms/step - loss: 0.0727 - accuracy: 0.9780 - val_loss: 0.9072 - val_accuracy: 0.8615\n",
            "Score for fold 1: loss of 0.8215085864067078; accuracy of 86.85789108276367%\n",
            "------------------------------------------------------------------------\n",
            "Training for fold 2 ...\n",
            "Epoch 1/20\n",
            "334/334 [==============================] - 16s 48ms/step - loss: 0.3194 - accuracy: 0.9184 - val_loss: 0.3494 - val_accuracy: 0.8950\n",
            "Epoch 2/20\n",
            "334/334 [==============================] - 16s 48ms/step - loss: 0.1652 - accuracy: 0.9518 - val_loss: 0.3682 - val_accuracy: 0.8955\n",
            "Epoch 3/20\n",
            "334/334 [==============================] - 16s 48ms/step - loss: 0.1177 - accuracy: 0.9664 - val_loss: 0.4744 - val_accuracy: 0.8955\n",
            "Epoch 4/20\n",
            "334/334 [==============================] - 16s 48ms/step - loss: 0.0908 - accuracy: 0.9709 - val_loss: 0.5780 - val_accuracy: 0.8920\n",
            "Score for fold 2: loss of 0.09077490121126175; accuracy of 97.28108048439026%\n",
            "------------------------------------------------------------------------\n",
            "Training for fold 3 ...\n",
            "Epoch 1/20\n",
            "334/334 [==============================] - 16s 48ms/step - loss: 0.1168 - accuracy: 0.9638 - val_loss: 0.4204 - val_accuracy: 0.9020\n",
            "Epoch 2/20\n",
            "334/334 [==============================] - 16s 48ms/step - loss: 0.0832 - accuracy: 0.9744 - val_loss: 0.4642 - val_accuracy: 0.8970\n",
            "Epoch 3/20\n",
            "334/334 [==============================] - 16s 49ms/step - loss: 0.0733 - accuracy: 0.9774 - val_loss: 0.5644 - val_accuracy: 0.9005\n",
            "Score for fold 3: loss of 0.05956156924366951; accuracy of 98.18113446235657%\n"
          ]
        }
      ]
    },
    {
      "cell_type": "markdown",
      "metadata": {
        "id": "EdsJyMTLxIhX"
      },
      "source": [
        "## Task 9: Evaluating the Model\n",
        "\n",
        "1. Visualizing training history\n",
        "2. Prepraring a test set\n",
        "3. A look at individual predictions on the test set\n",
        "4. A look at all predictions on the test set"
      ]
    },
    {
      "cell_type": "code",
      "metadata": {
        "id": "ENCfvXeLxIhX",
        "colab": {
          "base_uri": "https://localhost:8080/",
          "height": 392
        },
        "outputId": "3e808fe9-2299-4f19-f66a-7a8f191681fc"
      },
      "source": [
        "# Training history for last cross validation fold\n",
        "show_history(h)"
      ],
      "execution_count": 99,
      "outputs": [
        {
          "output_type": "display_data",
          "data": {
            "image/png": "[encoded data removed]",
            "text/plain": [
              "<Figure size 1152x432 with 2 Axes>"
            ]
          },
          "metadata": {
            "needs_background": "light"
          }
        }
      ]
    },
    {
      "cell_type": "code",
      "metadata": {
        "id": "kWuzoz8uxIha"
      },
      "source": [
        "test_tweets, test_labels = get_tweet(test)\n",
        "test_seq = get_sequences(tokenizer, test_tweets)\n",
        "test_labels = names_to_ids(test_labels)"
      ],
      "execution_count": 103,
      "outputs": []
    },
    {
      "cell_type": "code",
      "metadata": {
        "id": "7vRVJ_2SxIhc",
        "colab": {
          "base_uri": "https://localhost:8080/"
        },
        "outputId": "15253c76-f2a7-4d4a-e752-a9b9047f79ea"
      },
      "source": [
        "_ = model.evaluate(test_seq, test_labels)"
      ],
      "execution_count": 104,
      "outputs": [
        {
          "output_type": "stream",
          "name": "stdout",
          "text": [
            "63/63 [==============================] - 1s 19ms/step - loss: 0.5087 - accuracy: 0.9005\n"
          ]
        }
      ]
    },
    {
      "cell_type": "code",
      "metadata": {
        "id": "rh638vHG5ej6",
        "colab": {
          "base_uri": "https://localhost:8080/"
        },
        "outputId": "e175ecea-4a7d-4c24-948f-8102e3a49299"
      },
      "source": [
        "i = random.randint(0, len(test_labels) - 2)\n",
        "print('Sentence:', test_tweets[i])\n",
        "print('Emotion:', index_to_class[test_labels[i]])\n",
        "\n",
        "p = model.predict(np.expand_dims(test_seq[i], axis=0))[0]\n",
        "pred_class = index_to_class[np.argmax(p).astype('uint8')]\n",
        "                                      \n",
        "print('Predicted emotion:', pred_class)"
      ],
      "execution_count": 105,
      "outputs": [
        {
          "output_type": "stream",
          "name": "stdout",
          "text": [
            "Sentence: i just say the things that i want without even thinking what the person would feel its rude right\n",
            "Emotion: anger\n",
            "Predicted emotion: anger\n"
          ]
        }
      ]
    },
    {
      "cell_type": "code",
      "metadata": {
        "id": "hHl5SVCFxIhh"
      },
      "source": [
        "preds = np.argmax(model.predict(test_seq), axis=1)"
      ],
      "execution_count": 106,
      "outputs": []
    },
    {
      "cell_type": "code",
      "metadata": {
        "id": "NC8YQ0OexIhj",
        "colab": {
          "base_uri": "https://localhost:8080/",
          "height": 472
        },
        "outputId": "3fc78235-9354-411a-da61-aa963c61fa0d"
      },
      "source": [
        "show_confusion_matrix(test_labels, preds, list(classes))"
      ],
      "execution_count": 107,
      "outputs": [
        {
          "output_type": "display_data",
          "data": {
            "image/png": "[encoded data removed]",
            "text/plain": [
              "<Figure size 576x576 with 2 Axes>"
            ]
          },
          "metadata": {
            "needs_background": "light"
          }
        }
      ]
    },
    {
      "cell_type": "code",
      "metadata": {
        "id": "swKnoaOIoF5R"
      },
      "source": [
        ""
      ],
      "execution_count": null,
      "outputs": []
    }
  ]
}